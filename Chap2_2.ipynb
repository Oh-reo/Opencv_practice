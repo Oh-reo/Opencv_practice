{
 "cells": [
  {
   "cell_type": "code",
   "execution_count": null,
   "id": "9b0ba5ea",
   "metadata": {},
   "outputs": [],
   "source": [
    "#카메라에서 캡처한 이미지를 화면에 보여주기"
   ]
  },
  {
   "cell_type": "code",
   "execution_count": 1,
   "id": "6d63f08c",
   "metadata": {},
   "outputs": [],
   "source": [
    "import cv2 as cv"
   ]
  },
  {
   "cell_type": "code",
   "execution_count": 2,
   "id": "8af8add4",
   "metadata": {},
   "outputs": [],
   "source": [
    "cap = cv.VideoCapture(0)"
   ]
  },
  {
   "cell_type": "code",
   "execution_count": 3,
   "id": "7fd1031a",
   "metadata": {},
   "outputs": [],
   "source": [
    "if cap.isOpened() == False:\n",
    "    print(\"Cam is not opened\")\n",
    "    exit(1)"
   ]
  },
  {
   "cell_type": "code",
   "execution_count": 4,
   "id": "52f92207",
   "metadata": {},
   "outputs": [],
   "source": [
    "while(True):\n",
    "    ret, img_frame = cap.read()\n",
    "    if ret == False:\n",
    "        print(\"Failed to capture\")\n",
    "        break\n",
    "        \n",
    "    cv.imshow('Color', img_frame)\n",
    "    \n",
    "    key = cv.waitKey(1)\n",
    "    \n",
    "    if key == 27:\n",
    "        break"
   ]
  },
  {
   "cell_type": "code",
   "execution_count": 5,
   "id": "cfcb266d",
   "metadata": {},
   "outputs": [],
   "source": [
    "cap.release()\n",
    "cv.destroyAllWindows()"
   ]
  },
  {
   "cell_type": "code",
   "execution_count": 6,
   "id": "2ce3b778",
   "metadata": {},
   "outputs": [],
   "source": [
    "#카메라에서 캡처한 이미지를 동영상 파일로 저장하기"
   ]
  },
  {
   "cell_type": "code",
   "execution_count": 7,
   "id": "3de6cc58",
   "metadata": {},
   "outputs": [],
   "source": [
    "import cv2 as cv"
   ]
  },
  {
   "cell_type": "code",
   "execution_count": 9,
   "id": "622e3001",
   "metadata": {},
   "outputs": [],
   "source": [
    "cap = cv.VideoCapture(0)"
   ]
  },
  {
   "cell_type": "code",
   "execution_count": 10,
   "id": "397bf9d5",
   "metadata": {},
   "outputs": [],
   "source": [
    "if cap.isOpened() == False:\n",
    "    print(\"Cam is not opened\")\n",
    "    exit(1)"
   ]
  },
  {
   "cell_type": "code",
   "execution_count": 11,
   "id": "7a9c8460",
   "metadata": {},
   "outputs": [],
   "source": [
    "ret, img_frame = cap.read()"
   ]
  },
  {
   "cell_type": "code",
   "execution_count": 12,
   "id": "d4028499",
   "metadata": {},
   "outputs": [],
   "source": [
    "if ret == False:\n",
    "    print(\"Failed to capture\")\n",
    "    exit(1)"
   ]
  },
  {
   "cell_type": "code",
   "execution_count": 13,
   "id": "fa04891f",
   "metadata": {},
   "outputs": [],
   "source": [
    "codec = cv.VideoWriter_fourcc('M', 'J', 'P', 'G')"
   ]
  },
  {
   "cell_type": "code",
   "execution_count": 14,
   "id": "8c988768",
   "metadata": {},
   "outputs": [],
   "source": [
    "fps = 30.0"
   ]
  },
  {
   "cell_type": "code",
   "execution_count": 15,
   "id": "fda5c737",
   "metadata": {},
   "outputs": [],
   "source": [
    "h,w = img_frame.shape[:2]"
   ]
  },
  {
   "cell_type": "code",
   "execution_count": 16,
   "id": "3c46a67c",
   "metadata": {},
   "outputs": [],
   "source": [
    "writer = cv.VideoWriter(\"output.avi\", codec, fps, (w,h))"
   ]
  },
  {
   "cell_type": "code",
   "execution_count": 17,
   "id": "229b9f95",
   "metadata": {},
   "outputs": [],
   "source": [
    "if writer.isOpened == False:\n",
    "    print(\"Failed\")\n",
    "    exit(1)"
   ]
  },
  {
   "cell_type": "code",
   "execution_count": 18,
   "id": "bf19fa02",
   "metadata": {},
   "outputs": [],
   "source": [
    "while(True):\n",
    "    ret, img_frame = cap.read()\n",
    "    \n",
    "    if ret == False:\n",
    "        print(\"Failed to capture\")\n",
    "        break\n",
    "        \n",
    "    writer.write(img_frame)\n",
    "    \n",
    "    cv.imshow('Color', img_frame)\n",
    "    \n",
    "    key = cv.waitKey(1)\n",
    "    if key == 27:\n",
    "        break"
   ]
  },
  {
   "cell_type": "code",
   "execution_count": 19,
   "id": "f3e4ebdd",
   "metadata": {},
   "outputs": [],
   "source": [
    "cap.release()"
   ]
  },
  {
   "cell_type": "code",
   "execution_count": 20,
   "id": "4561eb4e",
   "metadata": {},
   "outputs": [],
   "source": [
    "writer.release()"
   ]
  },
  {
   "cell_type": "code",
   "execution_count": 21,
   "id": "64b91a18",
   "metadata": {},
   "outputs": [],
   "source": [
    "cv.destroyAllWindows()"
   ]
  },
  {
   "cell_type": "code",
   "execution_count": 22,
   "id": "7fc59f84",
   "metadata": {},
   "outputs": [],
   "source": [
    "#동영상 파일 재생하기"
   ]
  },
  {
   "cell_type": "code",
   "execution_count": 23,
   "id": "5d7c4d3b",
   "metadata": {},
   "outputs": [],
   "source": [
    "import cv2 as cv"
   ]
  },
  {
   "cell_type": "code",
   "execution_count": 24,
   "id": "6eb9d618",
   "metadata": {},
   "outputs": [],
   "source": [
    "cap = cv.VideoCapture(\"output.avi\")"
   ]
  },
  {
   "cell_type": "code",
   "execution_count": 25,
   "id": "1b7da297",
   "metadata": {},
   "outputs": [],
   "source": [
    "if cap.isOpened == False:\n",
    "    print(\"Failed to open\")\n",
    "    exit(1)"
   ]
  },
  {
   "cell_type": "code",
   "execution_count": 26,
   "id": "303c689d",
   "metadata": {},
   "outputs": [
    {
     "name": "stdout",
     "output_type": "stream",
     "text": [
      "end\n"
     ]
    }
   ],
   "source": [
    "while(True):\n",
    "    ret, img_frame = cap.read()\n",
    "    \n",
    "    if ret == False:\n",
    "        print(\"end\")\n",
    "        break\n",
    "        \n",
    "    cv.imshow('Color', img_frame)\n",
    "    \n",
    "    key = cv.waitKey(25)\n",
    "    if key == 27:\n",
    "        break"
   ]
  },
  {
   "cell_type": "code",
   "execution_count": 27,
   "id": "a55423a8",
   "metadata": {},
   "outputs": [],
   "source": [
    "cap.release()"
   ]
  },
  {
   "cell_type": "code",
   "execution_count": 28,
   "id": "86701df4",
   "metadata": {},
   "outputs": [],
   "source": [
    "cv.destroyAllWindows()"
   ]
  }
 ],
 "metadata": {
  "kernelspec": {
   "display_name": "Python 3 (ipykernel)",
   "language": "python",
   "name": "python3"
  },
  "language_info": {
   "codemirror_mode": {
    "name": "ipython",
    "version": 3
   },
   "file_extension": ".py",
   "mimetype": "text/x-python",
   "name": "python",
   "nbconvert_exporter": "python",
   "pygments_lexer": "ipython3",
   "version": "3.10.9"
  }
 },
 "nbformat": 4,
 "nbformat_minor": 5
}
