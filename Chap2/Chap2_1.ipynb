{
 "cells": [
  {
   "cell_type": "code",
   "execution_count": null,
   "id": "32ab2051",
   "metadata": {},
   "outputs": [],
   "source": [
    "# 이미지 파일을 읽어서 화면에 보여주기"
   ]
  },
  {
   "cell_type": "code",
   "execution_count": 1,
   "id": "7681578e",
   "metadata": {},
   "outputs": [],
   "source": [
    "import cv2"
   ]
  },
  {
   "cell_type": "code",
   "execution_count": 2,
   "id": "49fa2717",
   "metadata": {},
   "outputs": [],
   "source": [
    "img_color = cv2.imread(\"cat.jpg\", cv2.IMREAD_COLOR)"
   ]
  },
  {
   "cell_type": "code",
   "execution_count": 3,
   "id": "b3f9867e",
   "metadata": {},
   "outputs": [],
   "source": [
    "if img_color is None:\n",
    "    print(\"None\")\n",
    "    exit(1)"
   ]
  },
  {
   "cell_type": "code",
   "execution_count": 6,
   "id": "99614c10",
   "metadata": {},
   "outputs": [],
   "source": [
    "cv2.namedWindow('Color')\n",
    "cv2.imshow('Color', img_color)"
   ]
  },
  {
   "cell_type": "code",
   "execution_count": 8,
   "id": "149ebd3f",
   "metadata": {},
   "outputs": [],
   "source": [
    "cv2.waitKey(0)\n",
    "cv2.destroyAllWindows()"
   ]
  },
  {
   "cell_type": "code",
   "execution_count": null,
   "id": "12ffd874",
   "metadata": {},
   "outputs": [],
   "source": [
    "# 읽어온 이미지를 그레이 스케일 이미지로 변환 후 저장하기"
   ]
  },
  {
   "cell_type": "code",
   "execution_count": 9,
   "id": "7061003f",
   "metadata": {},
   "outputs": [],
   "source": [
    "import cv2"
   ]
  },
  {
   "cell_type": "code",
   "execution_count": 10,
   "id": "e6cf11e6",
   "metadata": {},
   "outputs": [],
   "source": [
    "img_color = cv2.imread(\"cat.jpg\", cv2.IMREAD_COLOR)"
   ]
  },
  {
   "cell_type": "code",
   "execution_count": 11,
   "id": "7090cd9f",
   "metadata": {},
   "outputs": [],
   "source": [
    "if img_color is None:\n",
    "    print(\"None\")\n",
    "    exit(1)"
   ]
  },
  {
   "cell_type": "code",
   "execution_count": 12,
   "id": "b440f7e1",
   "metadata": {},
   "outputs": [],
   "source": [
    "cv2.namedWindow('Color')\n",
    "cv2.imshow('Color', img_color)"
   ]
  },
  {
   "cell_type": "code",
   "execution_count": 13,
   "id": "dec6f0b0",
   "metadata": {},
   "outputs": [
    {
     "data": {
      "text/plain": [
       "100"
      ]
     },
     "execution_count": 13,
     "metadata": {},
     "output_type": "execute_result"
    }
   ],
   "source": [
    "cv2.waitKey(0)"
   ]
  },
  {
   "cell_type": "code",
   "execution_count": 15,
   "id": "5e50f229",
   "metadata": {},
   "outputs": [],
   "source": [
    "img_gray = cv2.cvtColor(img_color, cv2.COLOR_BGR2GRAY)"
   ]
  },
  {
   "cell_type": "code",
   "execution_count": 16,
   "id": "995606a8",
   "metadata": {},
   "outputs": [],
   "source": [
    "cv2.imshow('Gray', img_gray)"
   ]
  },
  {
   "cell_type": "code",
   "execution_count": 17,
   "id": "bd33262e",
   "metadata": {},
   "outputs": [
    {
     "data": {
      "text/plain": [
       "True"
      ]
     },
     "execution_count": 17,
     "metadata": {},
     "output_type": "execute_result"
    }
   ],
   "source": [
    "cv2.imwrite('Grayscale.jpg', img_gray)"
   ]
  },
  {
   "cell_type": "code",
   "execution_count": 18,
   "id": "890b44d5",
   "metadata": {},
   "outputs": [],
   "source": [
    "cv2.waitKey(0)\n",
    "cv2.destroyAllWindows()"
   ]
  }
 ],
 "metadata": {
  "kernelspec": {
   "display_name": "Python 3 (ipykernel)",
   "language": "python",
   "name": "python3"
  },
  "language_info": {
   "codemirror_mode": {
    "name": "ipython",
    "version": 3
   },
   "file_extension": ".py",
   "mimetype": "text/x-python",
   "name": "python",
   "nbconvert_exporter": "python",
   "pygments_lexer": "ipython3",
   "version": "3.10.9"
  }
 },
 "nbformat": 4,
 "nbformat_minor": 5
}
