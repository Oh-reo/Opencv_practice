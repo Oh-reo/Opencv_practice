{
 "cells": [
  {
   "cell_type": "code",
   "execution_count": null,
   "id": "9d69f2a2",
   "metadata": {},
   "outputs": [],
   "source": [
    "# 파이썬 이미지 데이터 공유 // OpenCV 함수 적용 시 서로 영향 안 줌. 입력 개체와 리턴 개체 다르기 때문"
   ]
  },
  {
   "cell_type": "code",
   "execution_count": 1,
   "id": "fa745044",
   "metadata": {},
   "outputs": [],
   "source": [
    "import cv2 as cv"
   ]
  },
  {
   "cell_type": "code",
   "execution_count": 2,
   "id": "35c9edca",
   "metadata": {},
   "outputs": [],
   "source": [
    "img_gray = cv.imread(\"Oreo.png\", cv.IMREAD_GRAYSCALE)"
   ]
  },
  {
   "cell_type": "code",
   "execution_count": 3,
   "id": "39bbd628",
   "metadata": {},
   "outputs": [],
   "source": [
    "img_copied1 = img_gray"
   ]
  },
  {
   "cell_type": "code",
   "execution_count": 4,
   "id": "300450ad",
   "metadata": {},
   "outputs": [
    {
     "name": "stdout",
     "output_type": "stream",
     "text": [
      "2533807841424 2533807841424\n"
     ]
    }
   ],
   "source": [
    "print(id(img_gray), id(img_copied1))"
   ]
  },
  {
   "cell_type": "code",
   "execution_count": 5,
   "id": "a8d1380d",
   "metadata": {},
   "outputs": [
    {
     "data": {
      "text/plain": [
       "array([[  0,   0,   0, ...,   0,   0,   0],\n",
       "       [  0,   0,   0, ...,   0,   0,   0],\n",
       "       [  0,   0,   0, ...,   0,   0,   0],\n",
       "       ...,\n",
       "       [130, 126, 124, ...,   0,   0,   0],\n",
       "       [123, 118, 115, ...,   0,   0,   0],\n",
       "       [116, 112, 107, ...,   0,   0,   0]], dtype=uint8)"
      ]
     },
     "execution_count": 5,
     "metadata": {},
     "output_type": "execute_result"
    }
   ],
   "source": [
    "cv.line(img_gray, (0, 0), (100, 100), 0, 10)"
   ]
  },
  {
   "cell_type": "code",
   "execution_count": 6,
   "id": "aa9d767d",
   "metadata": {},
   "outputs": [],
   "source": [
    "ret,img_gray = cv.threshold(img_gray, 127, 255, cv.THRESH_BINARY)"
   ]
  },
  {
   "cell_type": "code",
   "execution_count": 7,
   "id": "c6dcc305",
   "metadata": {},
   "outputs": [
    {
     "name": "stdout",
     "output_type": "stream",
     "text": [
      "2533807843536 2533807841424\n"
     ]
    }
   ],
   "source": [
    "print(id(img_gray), id(img_copied1))"
   ]
  },
  {
   "cell_type": "code",
   "execution_count": 8,
   "id": "27064bf7",
   "metadata": {},
   "outputs": [],
   "source": [
    "cv.imshow(\"img_gray\", img_gray)"
   ]
  },
  {
   "cell_type": "code",
   "execution_count": 10,
   "id": "06418e23",
   "metadata": {},
   "outputs": [],
   "source": [
    "cv.imshow(\"img_copied1\", img_copied1)"
   ]
  },
  {
   "cell_type": "code",
   "execution_count": 11,
   "id": "b246d02e",
   "metadata": {},
   "outputs": [
    {
     "data": {
      "text/plain": [
       "100"
      ]
     },
     "execution_count": 11,
     "metadata": {},
     "output_type": "execute_result"
    }
   ],
   "source": [
    "cv.waitKey(0)"
   ]
  },
  {
   "cell_type": "code",
   "execution_count": 12,
   "id": "74116736",
   "metadata": {},
   "outputs": [],
   "source": [
    "#파이썬 ROI 이미지 데이터 공유"
   ]
  },
  {
   "cell_type": "code",
   "execution_count": 13,
   "id": "92819a54",
   "metadata": {},
   "outputs": [],
   "source": [
    "import cv2 as cv"
   ]
  },
  {
   "cell_type": "code",
   "execution_count": 14,
   "id": "7464bb6f",
   "metadata": {},
   "outputs": [],
   "source": [
    "img_gray = cv.imread(\"Oreo.png\", cv.IMREAD_GRAYSCALE)"
   ]
  },
  {
   "cell_type": "code",
   "execution_count": 16,
   "id": "cb044c9a",
   "metadata": {},
   "outputs": [],
   "source": [
    "img_sub1 = img_gray[20:20+150, 20:20+150]"
   ]
  },
  {
   "cell_type": "code",
   "execution_count": 17,
   "id": "3c236310",
   "metadata": {},
   "outputs": [
    {
     "name": "stdout",
     "output_type": "stream",
     "text": [
      "True\n"
     ]
    }
   ],
   "source": [
    "print(img_sub1.base is img_gray)"
   ]
  },
  {
   "cell_type": "code",
   "execution_count": 18,
   "id": "5e15ca0a",
   "metadata": {},
   "outputs": [
    {
     "data": {
      "text/plain": [
       "array([[0, 0, 0, ..., 0, 0, 0],\n",
       "       [0, 0, 0, ..., 0, 0, 0],\n",
       "       [0, 0, 0, ..., 0, 0, 0],\n",
       "       ...,\n",
       "       [0, 0, 0, ..., 0, 0, 0],\n",
       "       [0, 0, 0, ..., 0, 0, 0],\n",
       "       [0, 0, 0, ..., 0, 0, 0]], dtype=uint8)"
      ]
     },
     "execution_count": 18,
     "metadata": {},
     "output_type": "execute_result"
    }
   ],
   "source": [
    "cv.line(img_sub1, (0,0), (100,100), 0, 10)"
   ]
  },
  {
   "cell_type": "code",
   "execution_count": 19,
   "id": "e5fc79f7",
   "metadata": {},
   "outputs": [],
   "source": [
    "ret,img_sub1 = cv.threshold(img_sub1, 127, 255, cv.THRESH_BINARY)"
   ]
  },
  {
   "cell_type": "code",
   "execution_count": 20,
   "id": "c782c23e",
   "metadata": {},
   "outputs": [
    {
     "name": "stdout",
     "output_type": "stream",
     "text": [
      "False\n"
     ]
    }
   ],
   "source": [
    "print(img_sub1.base is img_gray)"
   ]
  },
  {
   "cell_type": "code",
   "execution_count": 21,
   "id": "dbead0a7",
   "metadata": {},
   "outputs": [],
   "source": [
    "cv.imshow(\"img_gray\", img_gray)\n",
    "cv.imshow(\"img_sub1\", img_sub1)"
   ]
  },
  {
   "cell_type": "code",
   "execution_count": 22,
   "id": "974c13a2",
   "metadata": {},
   "outputs": [
    {
     "data": {
      "text/plain": [
       "100"
      ]
     },
     "execution_count": 22,
     "metadata": {},
     "output_type": "execute_result"
    }
   ],
   "source": [
    "cv.waitKey(0)"
   ]
  },
  {
   "cell_type": "code",
   "execution_count": 26,
   "id": "e42ae4b3",
   "metadata": {},
   "outputs": [],
   "source": [
    "cv.destroyAllWindows()"
   ]
  },
  {
   "cell_type": "code",
   "execution_count": 23,
   "id": "790fc6b7",
   "metadata": {},
   "outputs": [],
   "source": [
    "#이미지 복사본 생성"
   ]
  },
  {
   "cell_type": "code",
   "execution_count": 24,
   "id": "1fb7f35c",
   "metadata": {},
   "outputs": [],
   "source": [
    "import cv2 as cv"
   ]
  },
  {
   "cell_type": "code",
   "execution_count": 25,
   "id": "3583012e",
   "metadata": {},
   "outputs": [],
   "source": [
    "img_gray = cv.imread(\"Oreo.png\", cv.IMREAD_GRAYSCALE)"
   ]
  },
  {
   "cell_type": "code",
   "execution_count": 27,
   "id": "44becba2",
   "metadata": {},
   "outputs": [],
   "source": [
    "img_copied1 = img_gray.copy()"
   ]
  },
  {
   "cell_type": "code",
   "execution_count": 28,
   "id": "fec2e181",
   "metadata": {},
   "outputs": [
    {
     "name": "stdout",
     "output_type": "stream",
     "text": [
      "2533816197552 2533816197648\n"
     ]
    }
   ],
   "source": [
    "print(id(img_gray), id(img_copied1))"
   ]
  },
  {
   "cell_type": "code",
   "execution_count": 29,
   "id": "6299eecc",
   "metadata": {},
   "outputs": [
    {
     "data": {
      "text/plain": [
       "array([[255, 255, 255, ...,   0,   0,   0],\n",
       "       [255, 255, 255, ...,   0,   0,   0],\n",
       "       [255, 255, 255, ...,   0,   0,   0],\n",
       "       ...,\n",
       "       [130, 126, 124, ...,   0,   0,   0],\n",
       "       [123, 118, 115, ...,   0,   0,   0],\n",
       "       [116, 112, 107, ...,   0,   0,   0]], dtype=uint8)"
      ]
     },
     "execution_count": 29,
     "metadata": {},
     "output_type": "execute_result"
    }
   ],
   "source": [
    "cv.line(img_gray, (0, 0), (100, 100), 255, 10)"
   ]
  },
  {
   "cell_type": "code",
   "execution_count": 30,
   "id": "c8291c3c",
   "metadata": {},
   "outputs": [],
   "source": [
    "ret,img_gray = cv.threshold(img_gray, 127, 255, cv.THRESH_BINARY)"
   ]
  },
  {
   "cell_type": "code",
   "execution_count": 32,
   "id": "0a4023a6",
   "metadata": {},
   "outputs": [
    {
     "name": "stdout",
     "output_type": "stream",
     "text": [
      "2533816145840 2533816197648\n"
     ]
    }
   ],
   "source": [
    "print(id(img_gray), id(img_copied1))"
   ]
  },
  {
   "cell_type": "code",
   "execution_count": 33,
   "id": "cbf1a702",
   "metadata": {},
   "outputs": [],
   "source": [
    "cv.imshow(\"img_gray\", img_gray)\n",
    "cv.imshow(\"img_copied1\", img_copied1)"
   ]
  },
  {
   "cell_type": "code",
   "execution_count": 35,
   "id": "3e7dce22",
   "metadata": {},
   "outputs": [],
   "source": [
    "cv.waitKey(0)\n",
    "cv.destroyAllWindows()"
   ]
  }
 ],
 "metadata": {
  "kernelspec": {
   "display_name": "Python 3",
   "language": "python",
   "name": "python3"
  },
  "language_info": {
   "codemirror_mode": {
    "name": "ipython",
    "version": 3
   },
   "file_extension": ".py",
   "mimetype": "text/x-python",
   "name": "python",
   "nbconvert_exporter": "python",
   "pygments_lexer": "ipython3",
   "version": "3.8.8"
  }
 },
 "nbformat": 4,
 "nbformat_minor": 5
}
